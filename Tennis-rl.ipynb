{
 "cells": [
  {
   "cell_type": "markdown",
   "metadata": {},
   "source": [
    "# Collaboration and Competition\n",
    "\n",
    "---\n",
    "\n",
    "You are welcome to use this coding environment to train your agent for the project.  Follow the instructions below to get started!\n",
    "\n",
    "### 1. Start the Environment\n",
    "\n",
    "Run the next code cell to install a few packages.  This line will take a few minutes to run!"
   ]
  },
  {
   "cell_type": "code",
   "execution_count": 1,
   "metadata": {},
   "outputs": [
    {
     "name": "stdout",
     "output_type": "stream",
     "text": [
      "\u001b[31mtensorflow 1.7.1 has requirement numpy>=1.13.3, but you'll have numpy 1.12.1 which is incompatible.\u001b[0m\r\n",
      "\u001b[31mipython 6.5.0 has requirement prompt-toolkit<2.0.0,>=1.0.15, but you'll have prompt-toolkit 3.0.19 which is incompatible.\u001b[0m\r\n"
     ]
    }
   ],
   "source": [
    "!pip -q install ./python"
   ]
  },
  {
   "cell_type": "markdown",
   "metadata": {},
   "source": [
    "The environment is already saved in the Workspace and can be accessed at the file path provided below. "
   ]
  },
  {
   "cell_type": "code",
   "execution_count": 2,
   "metadata": {},
   "outputs": [
    {
     "name": "stderr",
     "output_type": "stream",
     "text": [
      "INFO:unityagents:\n",
      "'Academy' started successfully!\n",
      "Unity Academy name: Academy\n",
      "        Number of Brains: 1\n",
      "        Number of External Brains : 1\n",
      "        Lesson number : 0\n",
      "        Reset Parameters :\n",
      "\t\t\n",
      "Unity brain name: TennisBrain\n",
      "        Number of Visual Observations (per agent): 0\n",
      "        Vector Observation space type: continuous\n",
      "        Vector Observation space size (per agent): 8\n",
      "        Number of stacked Vector Observation: 3\n",
      "        Vector Action space type: continuous\n",
      "        Vector Action space size (per agent): 2\n",
      "        Vector Action descriptions: , \n"
     ]
    }
   ],
   "source": [
    "from unityagents import UnityEnvironment\n",
    "import numpy as np\n",
    "\n",
    "env = UnityEnvironment(file_name=\"/data/Tennis_Linux_NoVis/Tennis\")"
   ]
  },
  {
   "cell_type": "markdown",
   "metadata": {},
   "source": [
    "Environments contain **_brains_** which are responsible for deciding the actions of their associated agents. Here we check for the first brain available, and set it as the default brain we will be controlling from Python."
   ]
  },
  {
   "cell_type": "code",
   "execution_count": 3,
   "metadata": {},
   "outputs": [],
   "source": [
    "# get the default brain\n",
    "brain_name = env.brain_names[0]\n",
    "brain = env.brains[brain_name]"
   ]
  },
  {
   "cell_type": "markdown",
   "metadata": {},
   "source": [
    "### 2. Examine the State and Action Spaces\n",
    "\n",
    "Run the code cell below to print some information about the environment."
   ]
  },
  {
   "cell_type": "code",
   "execution_count": 6,
   "metadata": {},
   "outputs": [
    {
     "name": "stdout",
     "output_type": "stream",
     "text": [
      "Number of agents: 2\n",
      "Size of each action: 2\n",
      "There are 2 agents. Each observes a state with length: 24\n",
      "The state for the first agent looks like: [ 0.          0.          0.          0.          0.          0.          0.\n",
      "  0.          0.          0.          0.          0.          0.          0.\n",
      "  0.          0.         -7.38993645 -1.5        -0.          0.\n",
      "  6.83172083  5.99607611 -0.          0.        ]\n"
     ]
    }
   ],
   "source": [
    "# reset the environment\n",
    "env_info = env.reset(train_mode=True)[brain_name]\n",
    "\n",
    "# number of agents \n",
    "num_agents = len(env_info.agents)\n",
    "print('Number of agents:', num_agents)\n",
    "\n",
    "# size of each action\n",
    "action_size = brain.vector_action_space_size\n",
    "print('Size of each action:', action_size)\n",
    "\n",
    "# examine the state space \n",
    "states = env_info.vector_observations\n",
    "state_size = states.shape[1]\n",
    "print('There are {} agents. Each observes a state with length: {}'.format(states.shape[0], state_size))\n",
    "print('The state for the first agent looks like:', states[0])"
   ]
  },
  {
   "cell_type": "markdown",
   "metadata": {},
   "source": [
    "### 3. Take Random Actions in the Environment\n",
    "\n",
    "In the next code cell, you will learn how to use the Python API to control the agent and receive feedback from the environment.\n",
    "\n",
    "Note that **in this coding environment, you will not be able to watch the agents while they are training**, and you should set `train_mode=True` to restart the environment."
   ]
  },
  {
   "cell_type": "code",
   "execution_count": null,
   "metadata": {},
   "outputs": [],
   "source": [
    "for i in range(5):                                         # play game for 5 episodes\n",
    "    env_info = env.reset(train_mode=False)[brain_name]     # reset the environment    \n",
    "    states = env_info.vector_observations                  # get the current state (for each agent)\n",
    "    scores = np.zeros(num_agents)                          # initialize the score (for each agent)\n",
    "    while True:\n",
    "        actions = np.random.randn(num_agents, action_size) # select an action (for each agent)\n",
    "        actions = np.clip(actions, -1, 1)                  # all actions between -1 and 1\n",
    "        env_info = env.step(actions)[brain_name]           # send all actions to tne environment\n",
    "        next_states = env_info.vector_observations         # get next state (for each agent)\n",
    "        rewards = env_info.rewards                         # get reward (for each agent)\n",
    "        dones = env_info.local_done                        # see if episode finished\n",
    "        scores += env_info.rewards                         # update the score (for each agent)\n",
    "        states = next_states                               # roll over states to next time step\n",
    "        if np.any(dones):                                  # exit loop if episode finished\n",
    "            break\n",
    "    print('Total score (averaged over agents) this episode: {}'.format(np.mean(scores)))"
   ]
  },
  {
   "cell_type": "markdown",
   "metadata": {},
   "source": [
    "When finished, you can close the environment."
   ]
  },
  {
   "cell_type": "code",
   "execution_count": null,
   "metadata": {},
   "outputs": [],
   "source": [
    "env.close()"
   ]
  },
  {
   "cell_type": "markdown",
   "metadata": {},
   "source": [
    "### 4. It's Your Turn!\n",
    "\n",
    "Now it's your turn to train your own agent to solve the environment!  A few **important notes**:\n",
    "- When training the environment, set `train_mode=True`, so that the line for resetting the environment looks like the following:\n",
    "```python\n",
    "env_info = env.reset(train_mode=True)[brain_name]\n",
    "```\n",
    "- To structure your work, you're welcome to work directly in this Jupyter notebook, or you might like to start over with a new file!  You can see the list of files in the workspace by clicking on **_Jupyter_** in the top left corner of the notebook.\n",
    "- In this coding environment, you will not be able to watch the agents while they are training.  However, **_after training the agents_**, you can download the saved model weights to watch the agents on your own machine! "
   ]
  },
  {
   "cell_type": "markdown",
   "metadata": {},
   "source": [
    "### Solution "
   ]
  },
  {
   "cell_type": "code",
   "execution_count": 5,
   "metadata": {},
   "outputs": [],
   "source": [
    "import matplotlib.pyplot as plt\n",
    "from collections import deque\n",
    "import numpy as np\n",
    "import random\n",
    "import torch"
   ]
  },
  {
   "cell_type": "markdown",
   "metadata": {},
   "source": [
    "#### Agents"
   ]
  },
  {
   "cell_type": "code",
   "execution_count": 8,
   "metadata": {},
   "outputs": [],
   "source": [
    "from agents import Agent"
   ]
  },
  {
   "cell_type": "code",
   "execution_count": 9,
   "metadata": {},
   "outputs": [],
   "source": [
    "agent = Agent(state_size = state_size, action_size = action_size, num_agents = num_agents, random_seed = 0)"
   ]
  },
  {
   "cell_type": "code",
   "execution_count": 14,
   "metadata": {},
   "outputs": [],
   "source": [
    "def ma_ddpg(n_episodes=2000, max_t=100,  maxlen=100, print_every=100):\n",
    "    scores = []\n",
    "    scores_deque = deque(maxlen=maxlen)\n",
    "    scores_avg = []\n",
    "    \n",
    "    for i_episode in range(1, n_episodes+1):\n",
    "        env_info = env.reset(train_mode=True)[brain_name]\n",
    "        states = env_info.vector_observations\n",
    "        score = np.zeros(num_agents)\n",
    "        agent.reset()\n",
    "        \n",
    "        \n",
    "        while True:\n",
    "            actions = agent.act(states)\n",
    "            env_info = env.step(actions)[brain_name]\n",
    "            next_states = env_info.vector_observations\n",
    "            rewards = env_info.rewards\n",
    "            dones = env_info.local_done\n",
    "            agent.step(states, actions, rewards, next_states, dones)\n",
    "            score += env_info.rewards\n",
    "            states = next_states\n",
    "            if np.any(dones):\n",
    "                break\n",
    "        scores_deque.append(np.max(score))\n",
    "        scores.append(np.max(score))\n",
    "        scores_avg.append(np.mean(scores_deque))\n",
    "        \n",
    "        \n",
    "        print('\\rEpisode {}\\t Last Score: {:.3f}\\t Average Score: {:.3f}'.format(i_episode, np.max(scores), np.mean(scores_deque)), end=\"\")\n",
    "        if i_episode % print_every == 0:\n",
    "            print('\\rEpisode {}\\tAverage Score: {:.3f}'.format(i_episode, np.mean(scores_deque)))\n",
    "            \n",
    "        if np.mean(scores_deque) >= 0.5 :\n",
    "            torch.save(agent.actor_local.state_dict(), 'checkpoint_actor.pth')\n",
    "            torch.save(agent.critic_local.state_dict(), 'checkpoint_critic.pth')\n",
    "            print(f'Environment solved in {i_episode-100} episodes, Average Score: {np.mean(scores_deque)}')\n",
    "            break\n",
    "            \n",
    "    return scores"
   ]
  },
  {
   "cell_type": "code",
   "execution_count": 15,
   "metadata": {},
   "outputs": [
    {
     "name": "stdout",
     "output_type": "stream",
     "text": [
      "Episode 100\tAverage Score: 0.000Average Score: 0.000\n",
      "Episode 200\tAverage Score: 0.001Average Score: 0.001\n",
      "Episode 300\tAverage Score: 0.019Average Score: 0.019\n",
      "Episode 400\tAverage Score: 0.031Average Score: 0.031\n",
      "Episode 500\tAverage Score: 0.036Average Score: 0.036\n",
      "Episode 600\tAverage Score: 0.059Average Score: 0.059\n",
      "Episode 700\tAverage Score: 0.043Average Score: 0.043\n",
      "Episode 800\tAverage Score: 0.086Average Score: 0.086\n",
      "Episode 900\tAverage Score: 0.372Average Score: 0.372\n",
      "Episode 916\t Last Score: 2.600\t Average Score: 0.501Environment solved in 816 episodes, Average Score: 0.5014000075124204\n"
     ]
    }
   ],
   "source": [
    "scores = ma_ddpg()"
   ]
  },
  {
   "cell_type": "code",
   "execution_count": 16,
   "metadata": {},
   "outputs": [
    {
     "data": {
      "image/png": "[encoded data removed]",
      "text/plain": [
       "<matplotlib.figure.Figure at 0x7fce4d4af518>"
      ]
     },
     "metadata": {
      "needs_background": "light"
     },
     "output_type": "display_data"
    }
   ],
   "source": [
    "fig = plt.figure()\n",
    "ax = fig.add_subplot(111)\n",
    "plt.plot(np.arange(1, len(scores)+1), scores)\n",
    "plt.ylabel('Score')\n",
    "plt.xlabel('Episode #')\n",
    "plt.show()"
   ]
  },
  {
   "cell_type": "markdown",
   "metadata": {},
   "source": [
    "#### Trained agent"
   ]
  },
  {
   "cell_type": "code",
   "execution_count": 10,
   "metadata": {},
   "outputs": [
    {
     "data": {
      "text/plain": [
       "OrderedDict([('fcs1.weight', tensor(1.00000e-02 *\n",
       "                     [[-4.9269,  2.7493,  4.6877,  ...,  3.0994,  1.8932,  3.8158],\n",
       "                      [-2.3022,  6.2393,  1.9197,  ...,  2.1788, -2.1066,  6.0918],\n",
       "                      [ 2.1097, -1.9183,  0.6238,  ...,  2.5305,  0.7929,  6.1266],\n",
       "                      ...,\n",
       "                      [ 0.8459,  1.5713,  1.3605,  ...,  2.7343, -3.6685,  0.5995],\n",
       "                      [-0.5639,  3.7508, -0.3659,  ...,  6.2473, -1.2476, -5.4823],\n",
       "                      [-3.6027,  4.3643,  0.9007,  ...,  0.9835,  1.3939,  2.8780]], device='cuda:0')),\n",
       "             ('fcs1.bias',\n",
       "              tensor([-0.0783,  0.1145,  0.0969,  0.1125, -0.0486, -0.1788, -0.1999,\n",
       "                       0.0167, -0.1975, -0.1346,  0.1334, -0.0314,  0.0712, -0.1606,\n",
       "                       0.0324,  0.1839,  0.0371,  0.0360, -0.1260, -0.1476,  0.1190,\n",
       "                      -0.1827, -0.0125, -0.1636,  0.0143, -0.2000,  0.0676,  0.0003,\n",
       "                      -0.1342, -0.0760, -0.0816, -0.0916, -0.0509,  0.0376, -0.1174,\n",
       "                       0.0515, -0.1682,  0.1922, -0.1223,  0.0868, -0.1397, -0.1393,\n",
       "                      -0.0300, -0.1163, -0.0571, -0.0888, -0.0571, -0.1578,  0.1991,\n",
       "                       0.1151, -0.0729,  0.1482, -0.0909, -0.1667,  0.0654, -0.0702,\n",
       "                       0.1535, -0.0549, -0.1662,  0.1721,  0.0458,  0.0620, -0.0197,\n",
       "                      -0.1623,  0.0657,  0.0006, -0.1351,  0.1163, -0.1911, -0.1267,\n",
       "                      -0.0476, -0.1913, -0.1838, -0.0613, -0.0385,  0.1497,  0.0953,\n",
       "                       0.1898,  0.0634,  0.0273, -0.0393, -0.0861, -0.1829, -0.1864,\n",
       "                       0.0869, -0.1292, -0.0837,  0.0954, -0.1262,  0.0755, -0.0113,\n",
       "                       0.0421, -0.0930,  0.1488, -0.1670, -0.1906,  0.1593, -0.1379,\n",
       "                       0.1959,  0.0907,  0.0788, -0.0253,  0.0384,  0.0523, -0.0960,\n",
       "                       0.1502,  0.1255,  0.0120,  0.0585, -0.0248, -0.0737, -0.1573,\n",
       "                      -0.0784, -0.1955, -0.0642,  0.1068,  0.1981, -0.1868, -0.1697,\n",
       "                       0.1685, -0.0721,  0.0003,  0.1281,  0.1808,  0.0773,  0.0506,\n",
       "                      -0.0049,  0.0051,  0.0824, -0.1920, -0.1976,  0.1376, -0.1998,\n",
       "                       0.1073,  0.1478,  0.1354,  0.0623,  0.0227,  0.0943,  0.1216,\n",
       "                       0.0064, -0.1469,  0.1270,  0.0227,  0.1230, -0.1368, -0.0510,\n",
       "                      -0.1311,  0.0117,  0.1735,  0.0388,  0.1735,  0.1500, -0.1404,\n",
       "                       0.1959,  0.0113,  0.1709,  0.0395, -0.0349,  0.1733, -0.1510,\n",
       "                       0.0046, -0.0286,  0.0092, -0.0586,  0.1621, -0.0107,  0.0843,\n",
       "                       0.0879,  0.1860,  0.0734, -0.2035, -0.1692, -0.1928, -0.2001,\n",
       "                      -0.1698, -0.0030,  0.1932, -0.1321,  0.0859, -0.0931,  0.1581,\n",
       "                       0.1328,  0.0948,  0.1798, -0.1540, -0.1733, -0.1043,  0.0414,\n",
       "                       0.1805,  0.1348,  0.0638, -0.0362, -0.1159,  0.2030, -0.1787,\n",
       "                      -0.1408,  0.1201,  0.1592,  0.0536, -0.0036, -0.0243,  0.0266,\n",
       "                      -0.1027,  0.2018,  0.2039, -0.0790,  0.1417, -0.0485, -0.1481,\n",
       "                       0.0350, -0.0390,  0.1697,  0.0141, -0.0448, -0.1621,  0.1335,\n",
       "                       0.1362,  0.0287, -0.0179, -0.0684,  0.0473,  0.1959, -0.0336,\n",
       "                       0.0186, -0.1945,  0.0521, -0.0875, -0.0484, -0.1083,  0.1890,\n",
       "                       0.1390, -0.0879, -0.0501,  0.0622,  0.0768, -0.0961,  0.0829,\n",
       "                       0.0325,  0.1173, -0.1103, -0.1318,  0.0949, -0.0080, -0.0889,\n",
       "                       0.1602, -0.0227, -0.1363, -0.0291, -0.0946, -0.0705, -0.1680,\n",
       "                       0.1629,  0.1796, -0.1722,  0.1277], device='cuda:0')),\n",
       "             ('fc2.weight',\n",
       "              tensor([[ 7.6150e-03,  3.1017e-03,  4.4301e-02,  ..., -1.9920e-02,\n",
       "                        3.6843e-02, -8.9731e-03],\n",
       "                      [ 3.2520e-02,  2.3727e-02,  3.2129e-02,  ...,  2.4900e-02,\n",
       "                        2.4842e-02,  4.8556e-02],\n",
       "                      [-2.5837e-02, -1.6014e-02, -2.3947e-02,  ...,  6.3192e-03,\n",
       "                        1.9987e-02,  4.4741e-02],\n",
       "                      ...,\n",
       "                      [ 4.2575e-02, -5.4019e-02,  3.5092e-02,  ...,  5.4557e-02,\n",
       "                       -3.6612e-02,  1.6133e-02],\n",
       "                      [-5.6519e-02,  3.0574e-02,  4.8306e-02,  ...,  4.7141e-02,\n",
       "                        4.1220e-02, -7.2326e-03],\n",
       "                      [ 5.0429e-02,  1.4222e-02,  4.2066e-02,  ..., -9.6720e-03,\n",
       "                        3.3700e-03, -4.2698e-02]], device='cuda:0')),\n",
       "             ('fc2.bias', tensor(1.00000e-02 *\n",
       "                     [ 0.4416, -2.5331, -1.8238, -5.5225,  2.6107, -4.5171, -5.4190,\n",
       "                       4.1972,  0.1920,  5.3333, -2.4894,  1.0582,  4.0558,  6.0827,\n",
       "                      -4.2497,  0.3566, -0.3253,  2.7132,  3.3068, -2.8665,  2.5927,\n",
       "                       3.0197,  1.5285, -0.0939,  1.8491, -4.8387, -3.4218,  5.9446,\n",
       "                       1.8456,  5.8338,  2.9929,  0.8846,  3.2287, -5.8708,  6.0174,\n",
       "                       5.3484,  2.6898,  2.5117, -4.3684,  3.6489, -5.1547, -0.7168,\n",
       "                       3.3429,  5.0527, -0.0192, -1.5510,  1.1942,  3.6363,  0.7034,\n",
       "                       1.4620,  0.9918,  5.7843,  1.8399,  6.0521, -1.5648, -5.5882,\n",
       "                      -4.1018, -4.8854, -2.6926, -1.9891,  2.1180, -2.0672,  5.2154,\n",
       "                      -0.5038, -5.5144, -1.3599,  6.0232, -0.9543,  2.4188, -3.9239,\n",
       "                      -2.0228, -2.6090, -2.9971, -4.0616, -0.4559,  2.5892, -1.7687,\n",
       "                       2.1979, -2.1626,  5.0553,  5.3566,  1.1243, -2.6701,  3.6117,\n",
       "                      -0.9802, -4.6051,  1.2995, -0.4060, -3.1274, -3.3223,  2.4813,\n",
       "                       2.4077, -2.2728, -5.5357, -0.0382,  1.4164, -4.8416, -4.7638,\n",
       "                       0.7990, -0.9925,  2.0486,  4.5346,  2.0502,  1.6426, -1.5272,\n",
       "                      -3.4376,  3.3023, -1.6610,  4.5403,  1.1693, -4.9745,  5.6552,\n",
       "                       5.9682,  1.7770,  3.3040, -1.6757,  5.5387,  2.1487, -2.3115,\n",
       "                       3.0152, -1.3095, -4.3518,  3.1704,  3.0941, -3.2319,  4.3120,\n",
       "                      -1.2406, -3.9459,  5.1144,  2.5780,  4.2627, -5.6747,  2.2701,\n",
       "                      -3.2416, -5.8213, -4.3027,  1.2581,  4.5800,  2.7282,  1.7753,\n",
       "                       0.0412, -3.6682,  2.2172, -3.7518,  2.4410,  5.2386, -1.5314,\n",
       "                      -5.5541, -6.1781, -4.1484, -3.3059,  3.0543, -2.1186, -0.1617,\n",
       "                       4.2647,  3.1143, -5.2671, -3.9856,  6.2056,  0.9640, -3.4642,\n",
       "                       1.2378,  5.2207,  4.3348, -0.3163,  2.3931,  0.3399,  2.5129,\n",
       "                       3.5449, -4.5273,  3.5452, -5.3465,  0.3102, -1.5469,  5.3793,\n",
       "                      -2.4693, -4.0260, -0.9779,  3.5955,  3.5880, -2.9117,  2.4918,\n",
       "                       1.4770,  3.1615,  0.5388, -5.4705,  3.1596, -4.6785, -0.7885,\n",
       "                       5.6034, -4.9315, -0.6294,  3.5497,  1.4527, -4.5186,  4.4827,\n",
       "                      -5.7907, -0.4880,  3.6043,  4.7551, -3.3493, -3.0999, -0.3414,\n",
       "                      -0.3431,  5.9882,  1.8449,  1.3086, -0.3619, -5.2084, -5.7949,\n",
       "                       5.2951, -4.7530,  2.1568, -2.7164, -4.9592,  3.4217, -3.7573,\n",
       "                      -1.4861, -3.0836, -0.1885, -4.3799, -2.8302,  5.9881,  4.0801,\n",
       "                       3.8702,  4.4002, -2.2362, -6.2038, -2.6116,  1.0195, -1.2647,\n",
       "                       6.2035, -4.6335, -2.7558,  1.5169,  4.3515, -0.4860,  5.8626,\n",
       "                       3.9036, -2.4912,  1.4679,  3.2172, -4.2152,  3.8384,  1.8202,\n",
       "                      -0.0058,  5.6442,  4.8076,  1.2882, -3.9460, -2.9127,  0.2964,\n",
       "                       2.5237,  2.1107, -4.4546, -4.0827], device='cuda:0')),\n",
       "             ('fc3.weight', tensor(1.00000e-03 *\n",
       "                     [[ 1.8006, -2.6976,  0.5957, -0.9477, -2.1275,  2.9312,  1.0656,\n",
       "                       -1.8685, -2.9307, -0.2009,  0.1374, -0.6918,  2.6667,  0.6808,\n",
       "                       -2.7386, -2.5673, -1.1008,  0.8837,  1.2199,  1.8676, -1.6474,\n",
       "                        2.7858,  1.5958,  0.8309, -0.3097, -2.3449, -0.8442, -0.4994,\n",
       "                       -1.2135, -2.6820, -1.9713, -0.6333, -1.4851, -0.5938, -1.0827,\n",
       "                        1.1016,  0.3565,  2.1004, -0.1035, -1.3868, -0.5886,  2.4644,\n",
       "                       -1.8972, -1.7044,  0.0314,  2.5949,  1.1319,  0.7713,  0.4740,\n",
       "                        1.8089, -1.6950, -1.5590,  2.8924, -2.2240,  0.3373,  0.7790,\n",
       "                       -2.9803,  2.1468,  0.7360, -1.5168,  1.9792,  0.8228, -0.2131,\n",
       "                        1.4333,  1.2367, -0.6818, -2.6421,  2.1033,  0.6258, -0.2946,\n",
       "                        2.7994, -0.9009, -2.9326, -0.7265, -2.8010, -0.1420,  1.0908,\n",
       "                        1.9612,  1.1810, -1.3908,  0.6674,  1.3368,  1.0148, -2.5600,\n",
       "                        2.0211, -0.6667,  0.6372, -0.6694, -0.6648,  0.4372, -1.7296,\n",
       "                       -2.1083, -2.8460, -0.1609, -0.1772,  0.3961,  0.3413, -0.7560,\n",
       "                        0.9517, -2.4649,  0.0843, -2.1055, -1.5523,  1.5041, -0.0085,\n",
       "                       -1.2435,  1.4947, -1.9538, -1.8801, -0.2570, -2.4174,  1.8042,\n",
       "                       -2.2163,  0.9538, -0.8913, -2.9989, -2.9328, -2.6783,  1.6670,\n",
       "                       -2.6484, -1.5998, -0.9124, -1.8343,  0.7070,  1.2725, -0.0339,\n",
       "                        2.1744,  0.3683,  0.6711,  1.6491,  1.6776, -1.1318,  2.3175,\n",
       "                        1.2156,  1.7580, -2.5218, -0.2873,  1.9013, -1.2696, -0.2150,\n",
       "                        2.8599,  1.2192, -0.9725,  0.4606, -0.3549, -1.3493, -0.4262,\n",
       "                        2.3126, -2.3173, -2.9098,  0.9145, -0.4397, -1.1991, -1.5557,\n",
       "                        2.8597,  0.4606,  0.5724,  1.7183, -2.6655, -2.2398, -1.8781,\n",
       "                       -0.9868, -0.3102, -1.9999,  2.9986,  1.2161, -1.2317, -2.2417,\n",
       "                        0.5359, -0.5746, -1.3715, -0.2743, -2.5510, -1.6518, -2.0340,\n",
       "                       -0.1972,  2.4117,  1.4542, -1.6355, -1.5944,  1.7206, -2.1857,\n",
       "                        2.2355,  0.8227, -1.9930, -0.1181,  1.6058, -0.6509, -2.9729,\n",
       "                        1.4530, -1.8182, -1.0528,  1.1573,  0.5058, -0.7271, -1.9005,\n",
       "                        2.0798,  1.4771, -1.2802, -0.9085,  0.7658,  2.7314,  2.2643,\n",
       "                        0.7713, -2.3309, -0.4562,  2.9550,  2.3967,  0.1208,  1.1963,\n",
       "                       -0.4147,  2.6047, -2.9095, -2.8877,  2.8987, -0.8569, -2.9376,\n",
       "                       -1.6132,  1.0390, -0.9472,  1.2598,  0.1073,  1.6144, -0.3736,\n",
       "                        0.2765, -0.9206, -1.3849, -0.0938, -1.7523,  2.6039,  0.4373,\n",
       "                        0.9941, -2.1046,  0.5948,  0.3047, -1.2334,  2.0631,  0.6894,\n",
       "                       -0.8946, -2.4636,  2.6096, -2.8192,  2.6189, -0.0275, -2.4406,\n",
       "                       -1.1460,  1.4786,  1.1401,  0.8847, -1.4590, -0.8676, -1.6661,\n",
       "                        2.8366, -0.2786,  2.8881, -0.0527]], device='cuda:0')),\n",
       "             ('fc3.bias', tensor(1.00000e-02 *\n",
       "                     [-5.9698], device='cuda:0'))])"
      ]
     },
     "execution_count": 10,
     "metadata": {},
     "output_type": "execute_result"
    }
   ],
   "source": [
    "agent.actor_local.state_dict(torch.load('checkpoint_actor.pth'))\n",
    "agent.critic_local.state_dict(torch.load('checkpoint_critic.pth'))"
   ]
  },
  {
   "cell_type": "code",
   "execution_count": 17,
   "metadata": {},
   "outputs": [],
   "source": [
    "env_info = env.reset(train_mode=False)[brain_name]\n",
    "states = env_info.vector_observations\n",
    "score = np.zeros(num_agents)\n",
    "agent.reset()\n",
    "\n",
    "while True:\n",
    "    actions = agent.act(states)\n",
    "    env_info = env.step(actions)[brain_name]\n",
    "    next_states = env_info.vector_observations\n",
    "    rewards = env_info.rewards\n",
    "    dones = env_info.local_done\n",
    "    score += rewards\n",
    "    states = next_states\n",
    "    \n",
    "    if np.any(dones):\n",
    "        break\n",
    "        \n",
    "print(f'Score {(score)}')"
   ]
  },
  {
   "cell_type": "code",
   "execution_count": 18,
   "metadata": {},
   "outputs": [
    {
     "name": "stdout",
     "output_type": "stream",
     "text": [
      "Score [ 1.39000002  1.40000002]\n"
     ]
    }
   ],
   "source": [
    "print(f'Score {(score)}')"
   ]
  },
  {
   "cell_type": "code",
   "execution_count": null,
   "metadata": {},
   "outputs": [],
   "source": []
  }
 ],
 "metadata": {
  "kernelspec": {
   "display_name": "Python 3",
   "language": "python",
   "name": "python3"
  },
  "language_info": {
   "codemirror_mode": {
    "name": "ipython",
    "version": 3
   },
   "file_extension": ".py",
   "mimetype": "text/x-python",
   "name": "python",
   "nbconvert_exporter": "python",
   "pygments_lexer": "ipython3",
   "version": "3.6.3"
  }
 },
 "nbformat": 4,
 "nbformat_minor": 2
}
